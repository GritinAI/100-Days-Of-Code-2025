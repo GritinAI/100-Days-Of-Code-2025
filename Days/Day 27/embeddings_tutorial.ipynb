{
 "cells": [
  {
   "cell_type": "markdown",
   "id": "b9f601c1-5e72-4088-8572-fecf092cded5",
   "metadata": {},
   "source": [
    "\n",
    "# Day 0️⃣2️⃣7️⃣: Pre-LLMs II (Embeddings 🔢🔢🔢 II)\n",
    "\n",
    "---\n",
    "\n",
    "$$\\text{\"... And you shall know a word by the company it keeps.\"}$$\n",
    "$$\\text{John B. Firth}$$\n",
    "\n",
    "---"
   ]
  },
  {
   "cell_type": "markdown",
   "id": "fefd709a-c402-4b65-8277-5f81c8a8af97",
   "metadata": {},
   "source": [
    "This notebook is a small tutorial for understanding how embeddings work."
   ]
  },
  {
   "cell_type": "markdown",
   "id": "cd4197c4-e5a4-4cd5-9ecf-4d5f106048c0",
   "metadata": {},
   "source": [
    "---\n",
    "\n",
    "Steps:\n",
    "\n",
    "1️⃣ NumPy Importation\n",
    "\n",
    "2️⃣ Embedding Table ($E$)\n",
    "\n",
    "3️⃣ One-hot Embedding ($X$)\n",
    "\n",
    "4️⃣ Matrix multiplication ($X \\times E$)"
   ]
  },
  {
   "cell_type": "markdown",
   "id": "e3e6be29-0ed2-4bb3-aee0-b209974f7050",
   "metadata": {},
   "source": [
    "---\n",
    "\n",
    "1️⃣ NumPy Importation"
   ]
  },
  {
   "cell_type": "code",
   "execution_count": 1,
   "id": "0f238446-92a2-437d-93ee-ec54d84b8964",
   "metadata": {},
   "outputs": [],
   "source": [
    "# 1️⃣ NumPy Importation\n",
    "import numpy as np"
   ]
  },
  {
   "cell_type": "code",
   "execution_count": 2,
   "id": "36c32b7f-dbeb-40b4-aa92-1545436ef112",
   "metadata": {},
   "outputs": [],
   "source": [
    "#### ---- Experiment with this. Ensure the value is not greater than 9 and nor smaller than 0 ----\n",
    "embedding_index_to_select = 0\n",
    "\n",
    "assert -1 < embedding_index_to_select < 10, f\"\"\"Value for `embedding_index_to_select` ({embedding_index_to_select}) \n",
    "should be less than 10 and greater than -1\"\"\""
   ]
  },
  {
   "cell_type": "code",
   "execution_count": 3,
   "id": "22ee8f88-496b-42f0-92fc-d4c0e4a14f20",
   "metadata": {},
   "outputs": [],
   "source": [
    "### ----  DO NOT CHANGE ---- ###\n",
    "num_embeddings = 10\n",
    "embedding_dimensions = 10"
   ]
  },
  {
   "cell_type": "markdown",
   "id": "8d3b8052-98a8-4762-92ae-b8896336d0ee",
   "metadata": {},
   "source": [
    "---\n",
    "\n",
    "2️⃣ Embedding Table ($E$)"
   ]
  },
  {
   "cell_type": "code",
   "execution_count": 4,
   "id": "05bd03d7-bfe0-4906-95ec-23a5bf86a1f2",
   "metadata": {},
   "outputs": [],
   "source": [
    "#2️⃣ Embedding Table ($E$)\n",
    "E = np.arange(1, (num_embeddings * embedding_dimensions) + 1)"
   ]
  },
  {
   "cell_type": "code",
   "execution_count": 5,
   "id": "c2026051-4c0d-487b-86d5-80f800c934ef",
   "metadata": {},
   "outputs": [],
   "source": [
    "E = E.reshape(10, 10)"
   ]
  },
  {
   "cell_type": "code",
   "execution_count": 6,
   "id": "2fe5009d-5aaa-4978-bc54-680dc7ce4621",
   "metadata": {},
   "outputs": [
    {
     "data": {
      "text/plain": [
       "array([[  1,   2,   3,   4,   5,   6,   7,   8,   9,  10],\n",
       "       [ 11,  12,  13,  14,  15,  16,  17,  18,  19,  20],\n",
       "       [ 21,  22,  23,  24,  25,  26,  27,  28,  29,  30],\n",
       "       [ 31,  32,  33,  34,  35,  36,  37,  38,  39,  40],\n",
       "       [ 41,  42,  43,  44,  45,  46,  47,  48,  49,  50],\n",
       "       [ 51,  52,  53,  54,  55,  56,  57,  58,  59,  60],\n",
       "       [ 61,  62,  63,  64,  65,  66,  67,  68,  69,  70],\n",
       "       [ 71,  72,  73,  74,  75,  76,  77,  78,  79,  80],\n",
       "       [ 81,  82,  83,  84,  85,  86,  87,  88,  89,  90],\n",
       "       [ 91,  92,  93,  94,  95,  96,  97,  98,  99, 100]])"
      ]
     },
     "execution_count": 6,
     "metadata": {},
     "output_type": "execute_result"
    }
   ],
   "source": [
    "E"
   ]
  },
  {
   "cell_type": "markdown",
   "id": "c4f989a5-5ae5-421a-acc8-5922b661d66a",
   "metadata": {},
   "source": [
    "---\n",
    "\n",
    "3️⃣ One-hot Embedding ($X$)"
   ]
  },
  {
   "cell_type": "code",
   "execution_count": 7,
   "id": "c459c41d-231e-4801-b6ac-72de6f517085",
   "metadata": {},
   "outputs": [],
   "source": [
    "# 3️⃣ One-hot Embedding ($X$)\n",
    "X = np.zeros(shape=(1, 10))\n",
    "X[:, 3] = 1"
   ]
  },
  {
   "cell_type": "markdown",
   "id": "1e2f0534-a5b8-45c9-838a-fb4dee767202",
   "metadata": {},
   "source": [
    "---\n",
    "\n",
    "4️⃣ Matrix multiplication ($X \\times E$)"
   ]
  },
  {
   "cell_type": "code",
   "execution_count": 8,
   "id": "2dc3f376-f507-4d10-8044-ae6395de6d16",
   "metadata": {},
   "outputs": [
    {
     "data": {
      "text/plain": [
       "array([[31., 32., 33., 34., 35., 36., 37., 38., 39., 40.]])"
      ]
     },
     "execution_count": 8,
     "metadata": {},
     "output_type": "execute_result"
    }
   ],
   "source": [
    "# 4️⃣ Matrix multiplication ($X \\times E$)\n",
    "np.matmul(X, E)\n",
    "\n",
    "### ----  DO NOT CHANGE ---- ###"
   ]
  },
  {
   "cell_type": "markdown",
   "id": "cfebf7fa-4e41-4154-80f5-b58c7bbe72bf",
   "metadata": {},
   "source": [
    "---\n",
    "\n",
    "Feel free to experiment with the code above. Change the value for the `embedding_index_to_select` variable within the provided guidelines i.e., it must be a value between 0 and 9.\n",
    "\n",
    "Whenever you change the value for the `embedding_index_to_select` variable, run the code again! Observe the results.\n",
    "\n",
    "---\n",
    "\n",
    "$$Question$$\n",
    "$$ \\text{How does the value of the embedding\\_index\\_to\\_select variable relate to the results observed from the matrix multiplication 🤔?} $$\n",
    "\n",
    "---"
   ]
  },
  {
   "cell_type": "markdown",
   "id": "71416636-f3d9-40b4-ac22-2128f9b773c3",
   "metadata": {},
   "source": [
    "---\n",
    "\n",
    "Now that we have played around with the idea of an embedding, let us construct the embedding as a class object.\n",
    "\n",
    "---"
   ]
  },
  {
   "cell_type": "code",
   "execution_count": 9,
   "id": "abfe7e4d-85d0-4ad8-a988-0f4a397c4c41",
   "metadata": {},
   "outputs": [],
   "source": [
    "class Embedding:\n",
    "    def __init__(self, num_embeddings, embedding_dimensions, simple_embedding_table=True):\n",
    "        self.num_embeddings = num_embeddings\n",
    "        self.embedding_dimensions = embedding_dimensions\n",
    "\n",
    "        if simple_embedding_table:\n",
    "            self.E = np.arange(1, (embedding_dimensions * num_embeddings) + 1).reshape(num_embeddings, embedding_dimensions)\n",
    "        else:\n",
    "            self.E = np.empty(shape=(num_embeddings, embedding_dimensions)).astype(float)\n",
    "\n",
    "    def __call__(self, x):\n",
    "        return np.matmul(x, self.E)"
   ]
  },
  {
   "cell_type": "markdown",
   "id": "2d69dd05-56ad-42bd-819a-839db7803c0d",
   "metadata": {},
   "source": [
    "---\n",
    "\n",
    "Let us explain the class arguments above:\n",
    "\n",
    "1. `num_embeddings`: How many embeddings do we need to learn? In our example this would be the number of employees we have.\n",
    "2. `embedding_dimensions`: How many dimensions do we want our embeddings to be?\n",
    "3. `simple_embedding_table`: Do we want a simple embedding table? I recommend you leave this as `True`, since it would make it easy to see what is happening with the embedding process. However, in the real world, this value would be `False`, since embedding values in the real world would be continuous values.\n",
    "\n",
    "---\n",
    "\n",
    "$$ Exercise $$\n",
    "\n",
    "Switch the value of `simple_embedding_table` from `True` to `False` and run the code below. How easy is it to understand the results?\n",
    "\n",
    "---"
   ]
  },
  {
   "cell_type": "code",
   "execution_count": 10,
   "id": "7780e80f-c7aa-4f97-8464-227f545cc357",
   "metadata": {},
   "outputs": [],
   "source": [
    "num_embeddings = 10\n",
    "embedding_dimensions = 3\n",
    "embedding_index_to_select = 2\n",
    "simple_embedding_table=True\n",
    "\n",
    "#### ---- Uncomment the lines below to change the values and experiment with the code after this cell ----- ######\n",
    "\n",
    "\n",
    "# num_embeddings = 10\n",
    "# embedding_dimensions = 3\n",
    "# embedding_index_to_select = 3\n",
    "\n",
    "# Uncomment the line below to change to False just to test; however should be True by default.\n",
    "# simple_embedding_table=False\n",
    "\n",
    "assert -1 < embedding_index_to_select < num_embeddings, f\"Value for `embedding_index_to_select` ({embedding_index_to_select}) should be less than {num_embeddings} and greater than -1\""
   ]
  },
  {
   "cell_type": "code",
   "execution_count": 11,
   "id": "84249751-f5c2-435c-8eff-0510b77143fd",
   "metadata": {},
   "outputs": [],
   "source": [
    "embedding_layer = Embedding(\n",
    "    num_embeddings = num_embeddings,\n",
    "    embedding_dimensions = embedding_dimensions,\n",
    "    simple_embedding_table = simple_embedding_table\n",
    ")"
   ]
  },
  {
   "cell_type": "code",
   "execution_count": 12,
   "id": "1b580d7d-40cb-4000-8e95-22cb1c3f2d0a",
   "metadata": {},
   "outputs": [
    {
     "data": {
      "text/plain": [
       "array([[ 1,  2,  3],\n",
       "       [ 4,  5,  6],\n",
       "       [ 7,  8,  9],\n",
       "       [10, 11, 12],\n",
       "       [13, 14, 15],\n",
       "       [16, 17, 18],\n",
       "       [19, 20, 21],\n",
       "       [22, 23, 24],\n",
       "       [25, 26, 27],\n",
       "       [28, 29, 30]])"
      ]
     },
     "execution_count": 12,
     "metadata": {},
     "output_type": "execute_result"
    }
   ],
   "source": [
    "embedding_layer.E"
   ]
  },
  {
   "cell_type": "markdown",
   "id": "db4138a2-0589-4758-8a82-a675b473a722",
   "metadata": {},
   "source": [
    "---\n",
    "\n",
    "As can be seen above, we have 10 rows (i.e., 10 embeddings for our 10 employees) and 3 columns (i.e., 3 embedding dimensions for each of our employees). Next, we create the input data $X$ as a one-hot encoded vector.\n",
    "\n",
    "---"
   ]
  },
  {
   "cell_type": "code",
   "execution_count": 13,
   "id": "989953ce-8de0-41fb-9629-05cc471c9370",
   "metadata": {},
   "outputs": [],
   "source": [
    "X = np.zeros(shape = (1, num_embeddings))\n",
    "X[:, embedding_index_to_select] = 1"
   ]
  },
  {
   "cell_type": "code",
   "execution_count": 14,
   "id": "60fb2c16-9511-43d6-aecd-5f7721009c59",
   "metadata": {},
   "outputs": [
    {
     "data": {
      "text/plain": [
       "array([[7., 8., 9.]])"
      ]
     },
     "execution_count": 14,
     "metadata": {},
     "output_type": "execute_result"
    }
   ],
   "source": [
    "embedding_layer(X)"
   ]
  },
  {
   "cell_type": "code",
   "execution_count": 15,
   "id": "2a8d52d1-7019-4082-8921-bfd761bb8e19",
   "metadata": {},
   "outputs": [
    {
     "data": {
      "text/plain": [
       "(1, 10)"
      ]
     },
     "execution_count": 15,
     "metadata": {},
     "output_type": "execute_result"
    }
   ],
   "source": [
    "X.shape"
   ]
  },
  {
   "cell_type": "code",
   "execution_count": 16,
   "id": "afc9196f-292d-40ba-8d4b-ed7250fc99e1",
   "metadata": {},
   "outputs": [
    {
     "data": {
      "text/plain": [
       "(10, 3)"
      ]
     },
     "execution_count": 16,
     "metadata": {},
     "output_type": "execute_result"
    }
   ],
   "source": [
    "embedding_layer.E.shape"
   ]
  },
  {
   "cell_type": "markdown",
   "id": "ac1fa8a9-2caa-449f-b55f-e1022e2e339f",
   "metadata": {},
   "source": [
    "---\n",
    "\n",
    "$$Question ❓$$\n",
    "\n",
    "$$\\text{Do we neccessarily need the one-hot encoded vectors?}$$\n",
    "\n",
    "---\n",
    "\n",
    "Let us answer this question 😀! First, what embedding index do we have to select?"
   ]
  },
  {
   "cell_type": "code",
   "execution_count": 17,
   "id": "814379ba-d2f6-4dde-a9e5-e5fb014db5e3",
   "metadata": {},
   "outputs": [
    {
     "data": {
      "text/plain": [
       "2"
      ]
     },
     "execution_count": 17,
     "metadata": {},
     "output_type": "execute_result"
    }
   ],
   "source": [
    "embedding_index_to_select"
   ]
  },
  {
   "cell_type": "markdown",
   "id": "fe345af6-e060-4545-b147-0a952cff312f",
   "metadata": {},
   "source": [
    "---\n",
    "\n",
    "As can be seen, we are to select the embedding at index 2. So let's do that 😀!\n",
    "\n",
    "1️⃣ Select the embedding table (i.e., embedding_layer.E).\n",
    "\n",
    "2️⃣ Select the appropriate row from the table using the index.\n",
    "\n",
    "---"
   ]
  },
  {
   "cell_type": "code",
   "execution_count": 18,
   "id": "3a88beb1-0d11-4f0e-9393-6b5a64ee1171",
   "metadata": {},
   "outputs": [],
   "source": [
    "embedding_table = embedding_layer.E"
   ]
  },
  {
   "cell_type": "code",
   "execution_count": 19,
   "id": "c23cad91-7161-4e68-b29c-ccf878fa94c7",
   "metadata": {},
   "outputs": [
    {
     "data": {
      "text/plain": [
       "array([7, 8, 9])"
      ]
     },
     "execution_count": 19,
     "metadata": {},
     "output_type": "execute_result"
    }
   ],
   "source": [
    "embedding_table[embedding_index_to_select]"
   ]
  },
  {
   "cell_type": "code",
   "execution_count": 20,
   "id": "fd1ec09f-be98-4eac-83d5-d68ee12f9b05",
   "metadata": {},
   "outputs": [],
   "source": [
    "X = np.zeros(shape = (1, num_embeddings))\n",
    "X[:, embedding_index_to_select] = 1"
   ]
  },
  {
   "cell_type": "code",
   "execution_count": 21,
   "id": "6f10b068-d7a0-4897-aa72-42fd720f25dc",
   "metadata": {},
   "outputs": [
    {
     "data": {
      "text/plain": [
       "array([[7., 8., 9.]])"
      ]
     },
     "execution_count": 21,
     "metadata": {},
     "output_type": "execute_result"
    }
   ],
   "source": [
    "embedding_layer(X)"
   ]
  },
  {
   "cell_type": "markdown",
   "id": "d7bc6060-9e19-438d-ac78-5ddde25752a5",
   "metadata": {},
   "source": [
    "---\n",
    "\n",
    "Do we see this 😀?! Let us try it again with an index of 5!\n",
    "\n",
    "---"
   ]
  },
  {
   "cell_type": "code",
   "execution_count": 22,
   "id": "932aaedc-fa40-416c-8dba-2dd5b83c384f",
   "metadata": {},
   "outputs": [],
   "source": [
    "embedding_index_to_select = 5"
   ]
  },
  {
   "cell_type": "code",
   "execution_count": 23,
   "id": "91b8a80a-fd0d-4a82-8094-c12e6d3d2161",
   "metadata": {},
   "outputs": [
    {
     "data": {
      "text/plain": [
       "array([16, 17, 18])"
      ]
     },
     "execution_count": 23,
     "metadata": {},
     "output_type": "execute_result"
    }
   ],
   "source": [
    "embedding_table[embedding_index_to_select]"
   ]
  },
  {
   "cell_type": "code",
   "execution_count": 24,
   "id": "3ed0e50a-52e2-4bf9-8c56-45dd9d603e73",
   "metadata": {},
   "outputs": [],
   "source": [
    "X = np.zeros(shape = (1, num_embeddings))\n",
    "X[:, embedding_index_to_select] = 1"
   ]
  },
  {
   "cell_type": "code",
   "execution_count": 25,
   "id": "fffdab77-f4c2-46bf-a07e-3b09730d406d",
   "metadata": {},
   "outputs": [
    {
     "data": {
      "text/plain": [
       "array([[16., 17., 18.]])"
      ]
     },
     "execution_count": 25,
     "metadata": {},
     "output_type": "execute_result"
    }
   ],
   "source": [
    "embedding_layer(X)"
   ]
  },
  {
   "cell_type": "markdown",
   "id": "ed87eec7-f905-42f5-8e43-1de03ffff86a",
   "metadata": {},
   "source": [
    "---\n",
    "\n",
    "$$\\text{\\#1. As we can see, no matter how we change the index, as long as the index is appropriate, we get the same answer.}$$\n",
    "\n",
    "$$\\text{\\#2. Using the index to select the embeding directly from the table is the same thing as matrix multiplication of the one-hot vector and the embedding table!}$$\n",
    "\n",
    "---\n",
    "\n",
    "Now that we know how to create embedding layers, all that is left is to train the embedding model."
   ]
  },
  {
   "cell_type": "code",
   "execution_count": null,
   "id": "8d91816b-245b-4f55-82d8-61e083b9691b",
   "metadata": {},
   "outputs": [],
   "source": []
  }
 ],
 "metadata": {
  "kernelspec": {
   "display_name": "Python 3 (ipykernel)",
   "language": "python",
   "name": "python3"
  },
  "language_info": {
   "codemirror_mode": {
    "name": "ipython",
    "version": 3
   },
   "file_extension": ".py",
   "mimetype": "text/x-python",
   "name": "python",
   "nbconvert_exporter": "python",
   "pygments_lexer": "ipython3",
   "version": "3.13.0"
  }
 },
 "nbformat": 4,
 "nbformat_minor": 5
}
